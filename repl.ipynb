{
 "cells": [
  {
   "cell_type": "code",
   "execution_count": 4,
   "metadata": {},
   "outputs": [],
   "source": [
    "from sqlmodel import Session, select\n",
    "from beerlog.database import engine\n",
    "from beerlog.models import Beer"
   ]
  },
  {
   "cell_type": "code",
   "execution_count": 9,
   "metadata": {},
   "outputs": [
    {
     "name": "stdout",
     "output_type": "stream",
     "text": [
      "Brewdog\n",
      "Two Chefs\n",
      "Two Chefs\n"
     ]
    }
   ],
   "source": [
    "# select query\n",
    "with Session(engine) as session:\n",
    "    sql = select(Beer)\n",
    "    results = session.exec(sql)\n",
    "    for beer in results:\n",
    "        print(beer.name)"
   ]
  },
  {
   "cell_type": "code",
   "execution_count": 8,
   "metadata": {},
   "outputs": [
    {
     "name": "stdout",
     "output_type": "stream",
     "text": [
      "Brewdog None\n",
      "Two Chefs 5\n",
      "Two Chefs 5\n"
     ]
    }
   ],
   "source": [
    "# create/insert query\n",
    "with Session(engine) as session:\n",
    "    beer = Beer(name=\"Two Chefs\", style=\"QPA\", flavor=5, image=6, cost=6)\n",
    "    session.add(beer)\n",
    "    session.commit()\n",
    "\n",
    "    sql = select(Beer)\n",
    "    results = session.exec(sql)\n",
    "    for beer in results:\n",
    "        print(beer.name, beer.rate)"
   ]
  },
  {
   "cell_type": "code",
   "execution_count": null,
   "metadata": {},
   "outputs": [],
   "source": []
  }
 ],
 "metadata": {
  "interpreter": {
   "hash": "3fa1bda91dcefb50698f3faf63cd1a899bc3392b8fd795386eb2ed6ec3f6b9be"
  },
  "kernelspec": {
   "display_name": "Python 3.8.2 ('beerlog-TDLzhzt7-py3.8')",
   "language": "python",
   "name": "python3"
  },
  "language_info": {
   "codemirror_mode": {
    "name": "ipython",
    "version": 3
   },
   "file_extension": ".py",
   "mimetype": "text/x-python",
   "name": "python",
   "nbconvert_exporter": "python",
   "pygments_lexer": "ipython3",
   "version": "3.8.2"
  },
  "orig_nbformat": 4
 },
 "nbformat": 4,
 "nbformat_minor": 2
}
